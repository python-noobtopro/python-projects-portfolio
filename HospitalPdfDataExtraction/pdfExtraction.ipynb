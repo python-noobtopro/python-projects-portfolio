{
 "cells": [
  {
   "cell_type": "code",
   "execution_count": 5,
   "id": "c7a90206",
   "metadata": {},
   "outputs": [],
   "source": [
    "# !pip install aspose-pdf"
   ]
  },
  {
   "cell_type": "code",
   "execution_count": 6,
   "id": "5c1c9dd7",
   "metadata": {},
   "outputs": [],
   "source": [
    "import aspose.pdf as ap"
   ]
  },
  {
   "cell_type": "code",
   "execution_count": 30,
   "id": "edc6993b",
   "metadata": {},
   "outputs": [],
   "source": [
    "import os\n",
    "\n",
    "DIR_INPUT = r\"C:\\\\Users\\\\Rupesh.Ranjan\\\\OneDrive - GlobalData PLC\\\\Desktop\\\\Extra_Projects\\\\Pdf2Excel\\\\TPM_RPA_Zip\\\\TPM_RPA_Zip\\\\DS_Pdfs\\\\Single\\\\\"\n",
    "# DIR_INPUT = r\"C:\\\\Users\\\\Rupesh.Ranjan\\\\Downloads\\\\new\\\\\"\n",
    "DIR_OUTPUT = r\"C:\\\\Users\\\\Rupesh.Ranjan\\\\OneDrive - GlobalData PLC\\\\Desktop\\\\Extra_Projects\\\\Pdf2Excel\\\\TPM_RPA_Zip\\\\TPM_RPA_Zip\\\\DS_Excels\\\\Single_Excels\\\\\"\n",
    "\n",
    "error_list = []\n",
    "for files in os.listdir(DIR_INPUT):\n",
    "    try:\n",
    "        input_pdf = DIR_INPUT + files\n",
    "        output_pdf = DIR_OUTPUT + f\"{files.replace('.pdf', '')}.xlsx\"\n",
    "        # Open PDF document\n",
    "        document = ap.Document(input_pdf)\n",
    "\n",
    "        save_option = ap.ExcelSaveOptions()\n",
    "        save_option.format = ap.ExcelSaveOptions.ExcelFormat.XLSX\n",
    "\n",
    "        # Save the file into MS Excel format\n",
    "        document.save(output_pdf, save_option)\n",
    "\n",
    "    except Exception as e:\n",
    "        print(e)\n",
    "        print(files)\n",
    "        error_list.append(files)\n"
   ]
  },
  {
   "cell_type": "code",
   "execution_count": 13,
   "id": "0c4ff2de",
   "metadata": {},
   "outputs": [
    {
     "data": {
      "text/plain": [
       "[]"
      ]
     },
     "execution_count": 13,
     "metadata": {},
     "output_type": "execute_result"
    }
   ],
   "source": [
    "error_list"
   ]
  },
  {
   "cell_type": "code",
   "execution_count": 22,
   "id": "525e7fea-2341-44dc-a8bc-ac0f4f611ed3",
   "metadata": {},
   "outputs": [],
   "source": [
    "# !pip install aspose-words"
   ]
  },
  {
   "cell_type": "code",
   "execution_count": 26,
   "id": "4f6a39a3-d26d-4d06-bce9-660107e4439f",
   "metadata": {},
   "outputs": [],
   "source": [
    "import aspose.pdf as ap\n",
    "\n",
    "# Load the PDF file\n",
    "pdf_document = ap.Document(\"wck-5222-to-treat-cancer-patient-in-us 1.pdf\")\n",
    "\n",
    "# Save the document as a Word file\n",
    "pdf_document.save(\"wck-5222-to-treat-cancer-patient-in-us 1.docx\",)"
   ]
  },
  {
   "cell_type": "code",
   "execution_count": 28,
   "id": "83d51c43-445a-4fee-9abc-34097cab632f",
   "metadata": {},
   "outputs": [
    {
     "name": "stdout",
     "output_type": "stream",
     "text": [
      "PDF file 'wck-5222-to-treat-cancer-patient-in-us 1.pdf' has been converted to HTML file 'wck-5222-to-treat-cancer-patient-in-us 1.html'\n"
     ]
    }
   ],
   "source": [
    "import aspose.pdf as ap\n",
    "\n",
    "# Load the PDF file\n",
    "pdf_file = \"wck-5222-to-treat-cancer-patient-in-us 1.pdf\"\n",
    "pdf_document = ap.Document(pdf_file)\n",
    "\n",
    "# Save the document as an HTML file\n",
    "output_file = \"wck-5222-to-treat-cancer-patient-in-us 1.html\"\n",
    "pdf_document.save(output_file)\n",
    "\n",
    "print(f\"PDF file '{pdf_file}' has been converted to HTML file '{output_file}'\")\n"
   ]
  }
 ],
 "metadata": {
  "kernelspec": {
   "display_name": "Python 3 (ipykernel)",
   "language": "python",
   "name": "python3"
  },
  "language_info": {
   "codemirror_mode": {
    "name": "ipython",
    "version": 3
   },
   "file_extension": ".py",
   "mimetype": "text/x-python",
   "name": "python",
   "nbconvert_exporter": "python",
   "pygments_lexer": "ipython3",
   "version": "3.9.13"
  }
 },
 "nbformat": 4,
 "nbformat_minor": 5
}
